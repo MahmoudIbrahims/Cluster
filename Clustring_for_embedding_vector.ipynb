{
  "cells": [
    {
      "cell_type": "code",
      "execution_count": null,
      "id": "4GejIAx2BkNa",
      "metadata": {
        "id": "4GejIAx2BkNa"
      },
      "outputs": [],
      "source": [
        "FILE_PATH =\"/content/Data_Ai_and_py.txt\""
      ]
    },
    {
      "cell_type": "code",
      "execution_count": null,
      "id": "97Cpb0MD6Z5Q",
      "metadata": {
        "id": "97Cpb0MD6Z5Q"
      },
      "outputs": [],
      "source": [
        "! pip install transformers\n",
        "! pip install sentence_transformers"
      ]
    },
    {
      "cell_type": "markdown",
      "id": "cfcf207e",
      "metadata": {
        "id": "cfcf207e"
      },
      "source": [
        "### load libraries"
      ]
    },
    {
      "cell_type": "code",
      "execution_count": null,
      "id": "936b69c9",
      "metadata": {
        "id": "936b69c9"
      },
      "outputs": [],
      "source": [
        "from sentence_transformers import SentenceTransformer, util\n",
        "from sklearn.cluster import KMeans\n",
        "import numpy as np\n",
        "import pandas as pd\n",
        "import plotly.express as px"
      ]
    },
    {
      "cell_type": "markdown",
      "id": "8da7489f",
      "metadata": {
        "id": "8da7489f"
      },
      "source": [
        "### Read the data"
      ]
    },
    {
      "cell_type": "code",
      "execution_count": null,
      "id": "-cnYfNCrBUoa",
      "metadata": {
        "id": "-cnYfNCrBUoa"
      },
      "outputs": [],
      "source": [
        "with open (FILE_PATH,\"rb\")as f:\n",
        "  Data =f.read()"
      ]
    },
    {
      "cell_type": "markdown",
      "id": "887ae1c3",
      "metadata": {
        "id": "887ae1c3"
      },
      "source": [
        "### Convert Datatype from string to list"
      ]
    },
    {
      "cell_type": "code",
      "execution_count": null,
      "id": "-AW9WmwNCVb9",
      "metadata": {
        "id": "-AW9WmwNCVb9"
      },
      "outputs": [],
      "source": [
        "# Convert bytes to string\n",
        "data_str = Data.decode('utf-8')\n",
        "\n",
        "# Split the string into a list based on some delimiter\n",
        "data_list = data_str.split(',')\n"
      ]
    },
    {
      "cell_type": "markdown",
      "id": "73b42ec5",
      "metadata": {
        "id": "73b42ec5"
      },
      "source": [
        "### upload Embedding for Hugging Face"
      ]
    },
    {
      "cell_type": "code",
      "execution_count": null,
      "id": "ca18bea0",
      "metadata": {
        "id": "ca18bea0"
      },
      "outputs": [],
      "source": [
        "embedder = SentenceTransformer('all-MiniLM-L6-v2')"
      ]
    },
    {
      "cell_type": "markdown",
      "id": "2c610ff1",
      "metadata": {
        "id": "2c610ff1"
      },
      "source": [
        "### convert Data to Embedding vectors and Normalize the embeddings"
      ]
    },
    {
      "cell_type": "code",
      "execution_count": null,
      "id": "2cf75f55",
      "metadata": {
        "id": "2cf75f55"
      },
      "outputs": [],
      "source": [
        "corpus_embeddings = embedder.encode(data_list)\n",
        "\n",
        "# Normalize the embeddings to unit length\n",
        "corpus_embeddings = corpus_embeddings /  np.linalg.norm(corpus_embeddings, axis=1, keepdims=True)"
      ]
    },
    {
      "cell_type": "markdown",
      "id": "e55dfbe7",
      "metadata": {
        "id": "e55dfbe7"
      },
      "source": [
        "### Apply model K -Means"
      ]
    },
    {
      "cell_type": "code",
      "execution_count": null,
      "id": "133ee5ac",
      "metadata": {
        "colab": {
          "base_uri": "https://localhost:8080/"
        },
        "id": "133ee5ac",
        "outputId": "051690b2-72ff-436e-80c2-054423242957"
      },
      "outputs": [
        {
          "name": "stderr",
          "output_type": "stream",
          "text": [
            "/usr/local/lib/python3.10/dist-packages/sklearn/cluster/_kmeans.py:870: FutureWarning: The default value of `n_init` will change from 10 to 'auto' in 1.4. Set the value of `n_init` explicitly to suppress the warning\n",
            "  warnings.warn(\n"
          ]
        },
        {
          "name": "stdout",
          "output_type": "stream",
          "text": [
            "[1 1 1 1 1 1 1 1 1 1 1 1 1 1 1 1 1 1 1 1 1 1 1 1 1 1 1 1 1 1 1 1 1 1 1 1 1\n",
            " 1 1 1 1 1 1 1 1 1 1 1 1 1 1 1 1 1 1 1 1 1 1 1 1 1 1 1 1 1 1 1 1 1 1 1 1 1\n",
            " 1 1 1 1 1 1 1 1 1 1 1 1 1 1 1 1 1 1 1 1 1 1 1 1 1 1 1 1 1 1 1 1 1 1 1 1 1\n",
            " 1 1 1 1 1 1 1 1 1 1 1 1 1 1 1 1 1 1 1 1 1 1 1 1 1 1 1 1 1 1 1 1 1 1 1 1 1\n",
            " 1 1 1 1 1 1 1 1 1 1 1 1 1 1 1 1 1 1 1 1 1 1 1 1 1 1 1 1 1 1 1 1 1 1 1 1 1\n",
            " 1 1 1 1 1 1 1 1 1 1 1 1 1 1 1 0 1 1 0 1 1 0 1 1 1 1 1 1 1 1 1 1 1 1 1 1 1\n",
            " 1 1 1 1 1 1 1 1 1 1 1 1 1 1 1 1 1 1 1 1 1 1 1 1 1 1 1 1 1 1 1 1 1 1 1 1 1\n",
            " 1 1 1 1 1 1 1 1 1 1 1 1 1 1 1 1 1 1 1 1 1 1 1 1 1 1 1 1 1 1 1 1 1 1 1 1 1\n",
            " 1 1 1 1 1 1 1 1 1 1 1 1 1 1 1 1 1 1 1 1 1 1 1 1 1 1 1 1 1 1 1 1 1 1 1 1 1\n",
            " 1 1 1 1 1 1 1 1 1 1 1 1 1 1 1 1 1 1 1 1 1 1 1 1 1 1 1 1 1 1 0 1 1 0 1 0 0\n",
            " 1 1 1 1 1 1 1 1 1 1 1 1 1 0 1 1 0 1 1 0 1 1 1 1 1 1 1 1 1 1 1 1 1 1 0 1 1\n",
            " 1 1 0 1 1 1 1 1 1 1 1 1 1 1 1 1 1 1 1 1 1 1 1 1 1 1 1 1 1 1 1 1 1 1 1 1 1\n",
            " 1 1 1 1 1 1 1 1 1 0 0 1 1 1 1 1 1 1 1 1 0 1 1 1 1 1 1 1 0 1 1 1 1 0 0 1 0\n",
            " 0 1 1 1 1 1 1 0 0 0 0 0 0 0 0 0 0 0 1 1 0 0 0 0 0 1 0 0 1 1 0 1 0 0 0 0 0\n",
            " 1 1 1 0 0 1 1 1 1 0 0 0 0 0 0 1 0 0 1 0 0 0 1 1 0 1 1 0 1 1 1 0 0 0 0 0 0\n",
            " 0 1 1 1 0 0 0 0 0 0 0 0 1 0 0 0 0 0 0 0 1 1 1 1 1 0 1 0 0 0 0 0 0 0 0 0 0\n",
            " 0 0 1 0 0 0 0 0 0 0 0 0 0 0 0 0 0 0 1 1 1 1 1 1 0 1 0 0 0 0 0 0 0 0 0 0 0\n",
            " 0 0 0 0 0 0 0 0 0 0 0 0 0 0 0 0 0 1 0 0 0 1 1 1 0 0 1 0 0 0 0 0 0 0 0 1 0\n",
            " 1 0 0 0 0 0 0 0 0 0 0 0 0 0 1 0 0 0 0 0 0 0 0 0 0 0 0 0 0 0 0 0 0 0 0 0 0\n",
            " 0 0 0 0 0 0 1 0 0 1 0 0 1 0 0 0 1 0 1 1 1 1 0 0 1 0 0 0 1 1 1 1 1 0 0 0 0\n",
            " 0 0 1]\n"
          ]
        }
      ],
      "source": [
        "clustering_model = KMeans(n_clusters=2)\n",
        "clustering_model.fit(corpus_embeddings)\n",
        "cluster_assignment = clustering_model.labels_\n",
        "print(cluster_assignment)"
      ]
    },
    {
      "cell_type": "markdown",
      "source": [
        "### drowing the clusters"
      ],
      "metadata": {
        "id": "wx9cGWZ4aCyl"
      },
      "id": "wx9cGWZ4aCyl"
    },
    {
      "cell_type": "code",
      "source": [
        "pca = PCA(n_components=2)\n",
        "embeddings_2d = pca.fit_transform(corpus_embeddings)\n",
        "\n",
        "# Create a DataFrame with the embeddings and cluster assignments\n",
        "df = pd.DataFrame(embeddings_2d, columns=['python developer', 'Ai'])\n",
        "df['Cluster'] = cluster_assignment\n",
        "\n",
        "# Plotting the clusters\n",
        "fig = px.scatter(df, x='python developer', y='Ai', color='Cluster',\n",
        "                 title='KMeans Clustering', opacity=0.7, labels={'Cluster': 'Cluster'})\n",
        "fig.show()"
      ],
      "metadata": {
        "id": "DE6bqSjCZ80Y"
      },
      "id": "DE6bqSjCZ80Y",
      "execution_count": null,
      "outputs": []
    },
    {
      "cell_type": "markdown",
      "id": "3ec9fe18",
      "metadata": {
        "id": "3ec9fe18"
      },
      "source": [
        "### convert the results to Dictionary"
      ]
    },
    {
      "cell_type": "code",
      "execution_count": null,
      "id": "a142b860",
      "metadata": {
        "id": "a142b860"
      },
      "outputs": [],
      "source": [
        "clustered_sentences = {}\n",
        "for sentence_id, cluster_id in enumerate(cluster_assignment):\n",
        "    if cluster_id not in clustered_sentences:\n",
        "        clustered_sentences[cluster_id] = []\n",
        "\n",
        "    clustered_sentences[cluster_id].append(data_list[sentence_id])"
      ]
    },
    {
      "cell_type": "markdown",
      "id": "f8d74491",
      "metadata": {
        "id": "f8d74491"
      },
      "source": [
        "###  Flatten the clustered_sentences dictionary and Create DataFrame from the flattened list"
      ]
    },
    {
      "cell_type": "code",
      "execution_count": null,
      "id": "nd84frAM86aw",
      "metadata": {
        "id": "nd84frAM86aw"
      },
      "outputs": [],
      "source": [
        "\n",
        "flattened_sentences = [(cluster_id, sentence) for cluster_id, sentences in clustered_sentences.items() for sentence in sentences]\n",
        "\n",
        "\n",
        "df = pd.DataFrame(flattened_sentences, columns=['Cluster_id', 'Sentence'])\n"
      ]
    },
    {
      "cell_type": "code",
      "execution_count": null,
      "id": "e7b55087",
      "metadata": {
        "colab": {
          "base_uri": "https://localhost:8080/"
        },
        "id": "e7b55087",
        "outputId": "2e09e101-0551-49aa-e619-8a8248923c2b"
      },
      "outputs": [
        {
          "data": {
            "text/plain": [
              "Cluster_id                                                    0\n",
              "Sentence      Pandas is an open-sourced library used in data...\n",
              "Name: 671, dtype: object"
            ]
          },
          "execution_count": 71,
          "metadata": {},
          "output_type": "execute_result"
        }
      ],
      "source": [
        "df.sample(1).iloc[0]"
      ]
    },
    {
      "cell_type": "markdown",
      "id": "bd1a59d2",
      "metadata": {
        "id": "bd1a59d2"
      },
      "source": [
        "### convert numercial to category"
      ]
    },
    {
      "cell_type": "code",
      "execution_count": null,
      "id": "oRfX1lJtEr70",
      "metadata": {
        "id": "oRfX1lJtEr70"
      },
      "outputs": [],
      "source": [
        "# Define the mapping dictionary\n",
        "mapping = {\n",
        "    0: \"python developer\",\n",
        "    1: \"AI\"\n",
        "}\n",
        "\n",
        "# Replace the values in the \"Cluster_id\" column with their corresponding descriptions\n",
        "df[\"Cluster_id\"] = df[\"Cluster_id\"].map(mapping).fillna(df[\"Cluster_id\"])"
      ]
    },
    {
      "cell_type": "code",
      "execution_count": null,
      "id": "bbCsSQxNDMog",
      "metadata": {
        "id": "bbCsSQxNDMog"
      },
      "outputs": [],
      "source": [
        "df.tail()"
      ]
    },
    {
      "cell_type": "code",
      "execution_count": null,
      "id": "c5066328",
      "metadata": {
        "id": "c5066328"
      },
      "outputs": [],
      "source": [
        "df.to_csv(\"Clustering.csv\")"
      ]
    }
  ],
  "metadata": {
    "colab": {
      "provenance": []
    },
    "kernelspec": {
      "display_name": "Python 3 (ipykernel)",
      "language": "python",
      "name": "python3"
    },
    "language_info": {
      "codemirror_mode": {
        "name": "ipython",
        "version": 3
      },
      "file_extension": ".py",
      "mimetype": "text/x-python",
      "name": "python",
      "nbconvert_exporter": "python",
      "pygments_lexer": "ipython3",
      "version": "3.9.12"
    }
  },
  "nbformat": 4,
  "nbformat_minor": 5
}